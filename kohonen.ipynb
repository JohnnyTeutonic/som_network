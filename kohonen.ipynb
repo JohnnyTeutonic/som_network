{
 "cells": [
  {
   "cell_type": "markdown",
   "metadata": {},
   "source": [
    "# Self Organising Map Challenge\n",
    "\n",
    "## The Kohonen Network\n",
    "\n",
    "The Kohonen Self Organizing Map (SOM) provides a data visualization technique which helps to understand high dimensional data by reducing the dimensions of data to a map. SOM also represents clustering concept by grouping similar data together.\n",
    "\n",
    "Unlike other learning technique in neural networks, training a SOM requires no target vector. A SOM learns to classify the training data without any external supervision.\n",
    "\n",
    "![Network](http://www.pitt.edu/~is2470pb/Spring05/FinalProjects/Group1a/tutorial/kohonen1.gif)\n",
    "\n",
    "### Structure\n",
    "A network has a width and a height that descibes the grid of nodes.  For example, the grid may be 4x4, and so there would be 16 nodes.\n",
    "\n",
    "Each node has a weight for each value in the input vector.  A weight is simply a float value that the node multiplies the input value by to determine how influential it is (see below)\n",
    "\n",
    "Each node has a set of weights that match the size of the input vector.  For example, if the input vector has 10 elements, each node would have 10 weights.\n",
    "\n",
    "### Training \n",
    "To train the network\n",
    "\n",
    "1. Each node's weights are initialized.\n",
    "2. We enumerate through the training data for some number of iterations (repeating if necessary).  The current value we are training against will be referred to as the `current input vector`\n",
    "3. Every node is examined to calculate which one's weights are most like the input vector. The winning node is commonly known as the Best Matching Unit (BMU).\n",
    "4. The radius of the neighbourhood of the BMU is now calculated. This is a value that starts large, typically set to the 'radius' of the lattice,  but diminishes each time-step. Any nodes found within this radius are deemed to be inside the BMU's neighbourhood.\n",
    "5. Each neighbouring node's (the nodes found in step 4) weights are adjusted to make them more like the input vector. The closer a node is to the BMU, the more its weights get altered.\n",
    "6. Go to step 2 until we've completed N iterations.\n",
    "    \n",
    "\n",
    "### Calculating the Best Matching Unit (BMU)\n",
    "\n",
    "To determine the best matching unit, one method is to iterate through all the nodes and calculate the Euclidean distance between each node's weight vector and the current input vector. The node with a weight vector closest to the input vector is tagged as the BMU.\n",
    "\n",
    "The Euclidean distance $\\mathsf{distance}_{i}$ (from the input vector $V$ to the $i$th node's weights $W_i$)is given as (using Pythagoras):\n",
    "\n",
    "$$ \\mathsf{distance}_{i}=\\sqrt{\\sum_{k=0}^{k=n}(V_k - W_{i_k})^2}$$\n",
    "\n",
    "where V is the current input vector and $W_i$ is the node's weight vector.  $n$ is the size of the input & weight vector.\n",
    "\n",
    "*Note*: $V$ and $W$ are vectors.  $V$ is the input vector, and $W_i$ is the weight vector of the $i$th node.  $V_k$ and $W_{i_k}$ represent the $k$'th value within those vectors.  \n",
    "\n",
    "The BMU is the node with the minimal distance for the current input vector\n",
    "\n",
    "### Calculating the Neighbourhood Radius\n",
    "\n",
    "The next step is to calculate which of the other nodes are within the BMU's neighbourhood. All these nodes will have their weight vectors altered.\n",
    "\n",
    "First we calculate what the radius of the neighbourhood should be and then use Pythagoras to determine if each node is within the radial distance or not.\n",
    "\n",
    "A unique feature of the Kohonen learning algorithm is that the area of the neighbourhood shrinks over time. To do this we use the exponential decay function:\n",
    "\n",
    "Given a desired number of training iterations $n$:\n",
    "$$n_{\\mathsf{max iterations}} = 100$$\n",
    "\n",
    "Calculate the radius $\\sigma_t$ at iteration number $t$:\n",
    "\n",
    "$$\\sigma_t = \\sigma_0 \\exp\\left(- \\frac{t}{\\lambda} \\right) \\qquad t = 1,2,3,4... $$\n",
    "\n",
    "Where $\\sigma_0$ denotes the neighbourhood radius at iteration $t=0$, $t$ is the current iteration. We define $\\sigma_0$ (the initial radius) and $\\lambda$ (the time constant) as below:\n",
    "\n",
    "$$\\sigma_0 = \\frac{\\max(width,height)}{2} \\qquad \\lambda = \\frac{n_{\\mathsf{max iterations}}}{\\log(\\sigma_0)} $$\n",
    "\n",
    "Where $width$ & $height$ are the width and height of the grid.\n",
    "\n",
    "### Calculating the Learning Rate\n",
    "\n",
    "We define the initial leanring rate $\\alpha_0$ at iteration $t = 0$ as:\n",
    "$$\\alpha_0 = 0.1$$\n",
    "\n",
    "So, we can calculate the learning rate at a given iteration t as:\n",
    "\n",
    "$$\\alpha_t = \\alpha_0 \\exp \\left(- \\frac{t}{\\lambda} \\right) $$\n",
    "\n",
    "where $t$ is the iteration number, $\\lambda$ is the time constant (calculated above)\n",
    "        \n",
    "### Calculating the Influence\n",
    "\n",
    "As well as the learning rate, we need to calculate the influence $\\theta_t$ of the learning/training at a given iteration $t$.  \n",
    "\n",
    "So for each node, we need to caclulate the euclidean distance $d_i$ from the BMU to that node.  Similar to when we calculate the distance to find the BMU, we use Pythagoras.  The current ($i$th) node's x position is given by $x(W_i)$, and the BMU's x position is, likewise, given by $x(Z)$.  Similarly, $y()$ returns the y position of a node.\n",
    "\n",
    "$$ d_{i}=\\sqrt{(x(W_i) - x(Z))^2 + (y(W_i) - y(Z))^2} $$\n",
    "\n",
    "Then, the influence decays over time according to:\n",
    "\n",
    "$$\\theta_t = \\exp \\left( - \\frac{d_{i}^2}{2\\sigma_t^2} \\right) $$\n",
    "\n",
    "Where $\\sigma_t$ is the neighbourhood radius at iteration $t$ as calculated above. \n",
    "\n",
    "Note: You will need to come up with an approach to x() and y().\n",
    "\n",
    "\n",
    "### Updating the Weights\n",
    "\n",
    "To update the weights of a given node, we use:\n",
    "\n",
    "$$W_{i_{t+1}} = W_{i_t} + \\alpha_t \\theta_t (V_t - W_{i_t})$$\n",
    "        \n",
    "So $W_{i_{t+1}}$ is the new value of the weight for the $i$th node, $V_t$ is the current value of the training data, $W_{i_t}$ is the current weight and $\\alpha_t$ and $\\theta_t$ are the learning rate and influence calculated above.\n",
    "\n",
    "*Note*: the $W$ and $V$ are vectors "
   ]
  },
  {
   "cell_type": "markdown",
   "metadata": {},
   "source": [
    "## Challenge\n",
    "\n",
    "In this challenge, you need to implement a SOM such that it can categorise a set of random 3-dimensional colours.  The output should be an image of the organised data.  \n",
    "\n",
    "### Expectations and Criteria\n",
    "- Be prepared to talk through your decisions & thinking (we encourage you to include these in code comments too!)\n",
    "- You may use any language you like (the examples given below are using Python)\n",
    "- Avoid libraries that would do too much of the work for you. For example, in Python a good approach would be to use `numpy`, but no packages with SOM specific functionality\n",
    "- Try and make your code as efficient as possible. Feel free to deviate from a literal interpretation of the instructions given under the **Training** heading above\n",
    "- Consider the best way to structure your code and code base for later use by other developers or in anticipation of productionisation (you don't need to use a Jupyter Notebook)\n",
    "- Include any tests you may have used (tests are not required however)\n",
    "- Include a `Dockerfile` to package your code for production\n",
    "- Be prepared to discuss your approach and process to productionise this application\n",
    "- You can use code below to generate the trainig data of 10 colours:"
   ]
  },
  {
   "cell_type": "markdown",
   "metadata": {},
   "source": [
    "### 2. Train a 10x10 network over 100 iterations\n",
    "\n",
    "- Training data is a random set of 20 colours\n",
    "- How long does this take?\n",
    "- What does the map look like? (You will need to translate the weights of each node in the map to pixel data)\n",
    "- What does this look like if you perform 200 & 500 iterations?"
   ]
  },
  {
   "cell_type": "markdown",
   "metadata": {},
   "source": [
    "### 3. Train a 100x100 network over 1000 iterations\n",
    "\n",
    "- This network will likely be significantly slower to train\n",
    "- What could you do to improve performance?\n",
    "- What does the network look like after 1000 iterations?"
   ]
  },
  {
   "cell_type": "code",
   "execution_count": 14,
   "metadata": {},
   "outputs": [],
   "source": [
    "import numpy as np\n",
    "from scipy.stats import multivariate_normal\n",
    "from scipy.spatial.distance import cdist\n",
    "from matplotlib import pyplot as plt\n",
    "class kohonen():\n",
    "    \"\"\"example usage: \n",
    "    som = kohonen(5,5,np.random.random((20, 3)), n_iter=100)\n",
    "    som.train()\n",
    "    indices = som.predict(np.random.random((1000,1)))\n",
    "    preds = np.zeros(indices.shape)\n",
    "    for i, index in enumerate(indices):\n",
    "        preds[i] = som.grid[0][index]\n",
    "    preds = np.atleast_2d(preds)\n",
    "    plt.imshow(som.grid, cmap=\"Spectral\")\n",
    "    plt.title('grid after 100 iterations')\n",
    "    plt.imshow(preds.reshape(10,100), cmap='Spectral')\"\"\"\n",
    "    def __init__(self, width, height, input_data, n_iter=100):\n",
    "        self.width = width\n",
    "        self.height = height\n",
    "        self.n_nodes = self.width*self.height\n",
    "        self.input_data = input_data\n",
    "        self.n_iter = n_iter\n",
    "        self.sigma_0 = max(self.height, self.width) / 2\n",
    "        self.grid = np.random.random((self.width, self.height, self.input_data.shape[0]))\n",
    "        self.sigma_0 = max(self.grid.shape[0], self.grid.shape[1])/2\n",
    "        self.grid = self.grid.reshape(self.grid.shape[0]*self.grid.shape[1], self.input_data.shape[0])\n",
    "        self.lambd = self.n_iter/np.log(self.sigma_0)\n",
    "\n",
    "    def dist(self, x , y): \n",
    "        \"\"\"euclidean distance metric\"\"\"\n",
    "        return np.linalg.norm(x-y)\n",
    "    \n",
    "    def calc_neighbourhood_radius(self, sigma_0, t):\n",
    "        \"\"\"calculation of neighbourood radius using decaing exponential\"\"\"\n",
    "        return sigma_0*np.exp(-(t/self.lambd))\n",
    "    \n",
    "    def learning_rate(self, t, initial_lr=0.1):\n",
    "        \"\"\"calculation of learning rate using decaing exponential\"\"\"\n",
    "        return initial_lr*np.exp(-t/self.lambd)\n",
    "    \n",
    "    def train(self):\n",
    "        for current_time in range(1, self.n_iter+1):\n",
    "            print(current_time)\n",
    "            cur_neighborhood_radius = self.calc_neighbourhood_radius(self.sigma_0, current_time)\n",
    "            current_lr = self.learning_rate(current_time)\n",
    "            current_input_vector = (self.input_data.T[np.random.choice(self.input_data.shape[1])])\n",
    "            theta_vals = {}\n",
    "            cur_influence = {}\n",
    "            nodes_dist_cur = {}\n",
    "            best_dist = np.inf\n",
    "            for idx2, val in enumerate(self.grid): # find the smallest distance in the grid\n",
    "                cur_dist = self.dist(val, current_input_vector)\n",
    "                nodes_dist_cur[idx2] = cur_dist\n",
    "                if cur_dist < best_dist:\n",
    "                    best_dist = cur_dist\n",
    "                    BMU = idx2  # set the BMU to node with smallest distance\n",
    "            result = np.zeros(self.height*self.width)\n",
    "            for key, val in nodes_dist_cur.items():\n",
    "                result[key] = val\n",
    "            good_indices = np.argwhere(result<cur_neighborhood_radius) # find indices of nodes which are below threshold for neighborhood radius\n",
    "            good_indices = good_indices[good_indices!=BMU]\n",
    "            for val in good_indices:\n",
    "                # function I chose to use for this calculation (with the euclidean distance) is the multivariate normal distribution \n",
    "                cur_influence[val] = self.dist(multivariate_normal.pdf(self.grid[BMU]), multivariate_normal.pdf(self.grid[val]))\n",
    "                # get the theta vals\n",
    "                theta_vals[val] = np.exp(-((cur_influence[val]**2)/(2*(cur_neighborhood_radius)**2)))\n",
    "            previous_state_grid = self.grid.copy()\n",
    "            # update the weights for the grid\n",
    "            for key, val in theta_vals.items():\n",
    "                self.grid[key] = self.grid[key] + current_lr*theta_vals[key]*(current_input_vector-self.grid[key])\n",
    "            if np.allclose(previous_state_grid, self.grid, rtol=1e-02, atol=1e-02):\n",
    "                break\n",
    "        return self.grid\n",
    "    \n",
    "    def predict(self, samples):\n",
    "        \"\"\"use this function for predicting the label for a random color\"\"\"\n",
    "        result = []\n",
    "        for sample in samples.ravel():\n",
    "            distances = cdist(self.grid[0][:,None], np.atleast_2d(sample), metric='euclidean')\n",
    "            indices = np.argwhere(distances==distances.min())\n",
    "            result.append(indices[0,0])\n",
    "        return np.array(result)\n",
    "\n"
   ]
  },
  {
   "cell_type": "markdown",
   "metadata": {},
   "source": [
    "### 1. Implement a Kohonen network\n",
    "- Use the above description to implement a Kohonen network\n",
    "- Make sure you can configure the size of the input vector and the size of the map\n",
    "- Make sure node's weights are initialized to random values"
   ]
  },
  {
   "cell_type": "code",
   "execution_count": 3,
   "metadata": {},
   "outputs": [
    {
     "data": {
      "text/plain": [
       "array([[0.51233985, 0.91411423, 0.85604135],\n",
       "       [0.15282831, 0.80546827, 0.29262641],\n",
       "       [0.39513244, 0.56797458, 0.16118512],\n",
       "       [0.29484338, 0.81575272, 0.54711364],\n",
       "       [0.36793674, 0.4485905 , 0.06070865],\n",
       "       [0.24947131, 0.04495051, 0.28693613],\n",
       "       [0.01096796, 0.6254668 , 0.37920729],\n",
       "       [0.03811757, 0.95483206, 0.97917686],\n",
       "       [0.65123375, 0.2653825 , 0.66816935],\n",
       "       [0.16032272, 0.27236429, 0.75605086]])"
      ]
     },
     "execution_count": 3,
     "metadata": {},
     "output_type": "execute_result"
    }
   ],
   "source": [
    "# Generate Data\n",
    "import numpy as np\n",
    "input_data = np.random.random((10,3))\n",
    "input_data"
   ]
  },
  {
   "cell_type": "code",
   "execution_count": 186,
   "metadata": {},
   "outputs": [
    {
     "data": {
      "text/plain": [
       "Text(0.5, 1.0, 'grid after 10 iterations')"
      ]
     },
     "execution_count": 186,
     "metadata": {},
     "output_type": "execute_result"
    },
    {
     "data": {
      "image/png": "[encoded data removed]",
      "text/plain": [
       "<Figure size 432x288 with 1 Axes>"
      ]
     },
     "metadata": {
      "needs_background": "light"
     },
     "output_type": "display_data"
    }
   ],
   "source": [
    "som = kohonen(10,10,input_data, n_iter=10)\n",
    "som.train()\n",
    "plt.imshow(som.grid, cmap=\"Spectral\")\n",
    "plt.title('grid after 10 iterations')"
   ]
  },
  {
   "cell_type": "code",
   "execution_count": 190,
   "metadata": {},
   "outputs": [
    {
     "name": "stdout",
     "output_type": "stream",
     "text": [
      "it took 1.7300467491149902 seconds to train\n"
     ]
    },
    {
     "data": {
      "text/plain": [
       "Text(0.5, 1.0, 'grid after 100 iterations')"
      ]
     },
     "execution_count": 190,
     "metadata": {},
     "output_type": "execute_result"
    },
    {
     "data": {
      "image/png": "[encoded data removed]",
      "text/plain": [
       "<Figure size 432x288 with 1 Axes>"
      ]
     },
     "metadata": {
      "needs_background": "light"
     },
     "output_type": "display_data"
    }
   ],
   "source": [
    "# network has almost converged already after 100 iterations\n",
    "import time\n",
    "som = kohonen(10,10,input_data, n_iter=100)\n",
    "start_time = time.time()\n",
    "som.train()\n",
    "end_time = time.time()-start_time\n",
    "print(f'it took {end_time} seconds to train')\n",
    "plt.imshow(som.grid, cmap=\"Spectral\")\n",
    "plt.title('grid after 100 iterations')"
   ]
  },
  {
   "cell_type": "code",
   "execution_count": null,
   "metadata": {},
   "outputs": [],
   "source": [
    "som = kohonen(100,100,input_data, n_iter=1000)\n",
    "import time\n",
    "start_time = time.time()\n",
    "som.train()\n",
    "end_time = start_time - time.time()\n",
    "print('1000 iterations took {end_time} seconds')"
   ]
  },
  {
   "cell_type": "code",
   "execution_count": 145,
   "metadata": {},
   "outputs": [
    {
     "data": {
      "text/plain": [
       "<matplotlib.image.AxesImage at 0x25693b68d00>"
      ]
     },
     "execution_count": 145,
     "metadata": {},
     "output_type": "execute_result"
    },
    {
     "data": {
      "image/png": "[encoded data removed]",
      "text/plain": [
       "<Figure size 432x288 with 1 Axes>"
      ]
     },
     "metadata": {
      "needs_background": "light"
     },
     "output_type": "display_data"
    }
   ],
   "source": [
    "xx, yy = np.meshgrid(np.linspace(0,1,som.grid.shape[0]), np.linspace(0,1,som.grid.shape[0]))\n",
    "\n",
    "data = som.grid.T @ xx + som.grid.T @ yy\n",
    "\n",
    "fig = plt.figure()\n",
    "\n",
    "ax1 = fig.add_subplot(121)\n",
    "ax1.imshow(data, cmap='Spectral', interpolation='nearest', origin='lower', extent=[0,1,0,1])\n"
   ]
  },
  {
   "cell_type": "code",
   "execution_count": 10,
   "metadata": {},
   "outputs": [
    {
     "data": {
      "text/plain": [
       "<matplotlib.image.AxesImage at 0x25691696e50>"
      ]
     },
     "execution_count": 10,
     "metadata": {},
     "output_type": "execute_result"
    },
    {
     "data": {
      "image/png": "[encoded data removed]",
      "text/plain": [
       "<Figure size 432x288 with 1 Axes>"
      ]
     },
     "metadata": {
      "needs_background": "light"
     },
     "output_type": "display_data"
    }
   ],
   "source": [
    "# network convergence seen below\n",
    "plt.imshow(np.atleast_2d(som.grid[0]), cmap='Spectral')"
   ]
  },
  {
   "cell_type": "code",
   "execution_count": null,
   "metadata": {},
   "outputs": [],
   "source": [
    "# this just shows how to generate random predictions. \n",
    "indices = som.predict(np.random.random((1000,1)))\n",
    "preds = np.zeros(indices.shape)\n",
    "for i, index in enumerate(indices):\n",
    "    preds[i] = som.grid[0][index]\n",
    "preds = np.atleast_2d(preds)\n",
    "# this just shows a colormap where each random data point has landed\n",
    "plt.imshow(preds.reshape(10,100), cmap='Spectral')"
   ]
  },
  {
   "cell_type": "markdown",
   "metadata": {},
   "source": [
    "The network took a lot longer to train after 1000 iterations, as expected.\n",
    "As can be seen in one of the cells above, it only took 1.73 seconds to train the model using a 100*100 grid with 100 iterations.\n",
    "In order to optimise the network, I could have used vectorised calculations such as 'cdist' found in scipy.spatial.distance, as opposed to the inner most 'nested for loop' used in the 'train' method of my network:\n",
    "```\n",
    "distances = cdist(np.atleast_2d(current_input_vector), som.grid, metric='euclidean')\n",
    "indices = np.where(distances == distances.min()) \n",
    "```\n",
    "Additionaly, writing some of the code using Numba (with a JIT compiler), or writing some of the code in Cython would probably give the network an additional speed-up.\n"
   ]
  },
  {
   "cell_type": "code",
   "execution_count": 65,
   "metadata": {},
   "outputs": [
    {
     "data": {
      "text/plain": [
       "<matplotlib.image.AxesImage at 0x12b72f373d0>"
      ]
     },
     "execution_count": 65,
     "metadata": {},
     "output_type": "execute_result"
    },
    {
     "data": {
      "image/png": "[encoded data removed]",
      "text/plain": [
       "<Figure size 432x288 with 1 Axes>"
      ]
     },
     "metadata": {
      "needs_background": "light"
     },
     "output_type": "display_data"
    }
   ],
   "source": []
  },
  {
   "cell_type": "code",
   "execution_count": 18,
   "metadata": {},
   "outputs": [
    {
     "data": {
      "text/plain": [
       "{0: 0.22171781013607142,\n",
       " 1: 0.23102180944783599,\n",
       " 2: 0.21722598432811294,\n",
       " 3: 0.2127909218738594,\n",
       " 4: 0.22432053990661854,\n",
       " 5: 0.21332699018430692,\n",
       " 6: 0.21489136545616325,\n",
       " 7: 0.2136813831221606,\n",
       " 8: 0.22072125911272608,\n",
       " 9: 0.2114898757438515,\n",
       " 10: 0.2146239173622632,\n",
       " 11: 0.21835611532263277,\n",
       " 12: 0.21967493928353415,\n",
       " 13: 0.21621855703790901,\n",
       " 14: 0.21695003733080237,\n",
       " 15: 0.22006323184892754,\n",
       " 16: 0.21465101229052494,\n",
       " 17: 0.2223846066358158,\n",
       " 18: 0.22155835991702166,\n",
       " 19: 0.21395614240814606,\n",
       " 20: 0.2116003274959145,\n",
       " 21: 0.2117097229611392,\n",
       " 22: 0.21435813981724472,\n",
       " 23: 0.21912216875278265,\n",
       " 24: 0.21047648742985756}"
      ]
     },
     "execution_count": 18,
     "metadata": {},
     "output_type": "execute_result"
    }
   ],
   "source": [
    "nodes_dist_cur"
   ]
  },
  {
   "cell_type": "code",
   "execution_count": 19,
   "metadata": {},
   "outputs": [
    {
     "data": {
      "text/plain": [
       "(array([0], dtype=int64), array([13], dtype=int64))"
      ]
     },
     "execution_count": 19,
     "metadata": {},
     "output_type": "execute_result"
    }
   ],
   "source": [
    "indices"
   ]
  },
  {
   "cell_type": "code",
   "execution_count": 20,
   "metadata": {},
   "outputs": [
    {
     "data": {
      "text/plain": [
       "(1, 25)"
      ]
     },
     "execution_count": 20,
     "metadata": {},
     "output_type": "execute_result"
    }
   ],
   "source": [
    "distances.shape"
   ]
  },
  {
   "cell_type": "code",
   "execution_count": 27,
   "metadata": {},
   "outputs": [
    {
     "data": {
      "text/plain": [
       "array([0., 0., 0., 0., 0., 0., 0., 0., 0., 0., 0., 0., 0., 0., 0., 0., 0.,\n",
       "       0., 0., 0., 0., 0., 0., 0., 0.])"
      ]
     },
     "execution_count": 27,
     "metadata": {},
     "output_type": "execute_result"
    }
   ],
   "source": [
    "result"
   ]
  },
  {
   "cell_type": "code",
   "execution_count": 40,
   "metadata": {},
   "outputs": [],
   "source": [
    "ind = np.where(distances < cur_neighborhood_radius)"
   ]
  },
  {
   "cell_type": "code",
   "execution_count": null,
   "metadata": {},
   "outputs": [],
   "source": []
  },
  {
   "cell_type": "code",
   "execution_count": 42,
   "metadata": {},
   "outputs": [
    {
     "data": {
      "text/plain": [
       "(array([0, 0, 0, 0, 0, 0, 0, 0, 0, 0, 0, 0, 0, 0, 0, 0, 0, 0, 0, 0, 0, 0,\n",
       "        0, 0, 0], dtype=int64),\n",
       " array([ 0,  1,  2,  3,  4,  5,  6,  7,  8,  9, 10, 11, 12, 13, 14, 15, 16,\n",
       "        17, 18, 19, 20, 21, 22, 23, 24], dtype=int64))"
      ]
     },
     "execution_count": 42,
     "metadata": {},
     "output_type": "execute_result"
    }
   ],
   "source": []
  },
  {
   "cell_type": "code",
   "execution_count": 39,
   "metadata": {},
   "outputs": [
    {
     "data": {
      "text/plain": [
       "array([0.57932212, 0.57926927, 1.4876725 , 0.57752535, 0.57751093,\n",
       "       0.58008641, 0.57851531, 0.57939127, 0.57788703, 0.58051455,\n",
       "       0.57638964, 0.57856169, 0.57731856, 0.57540225, 0.57842387,\n",
       "       0.5798843 , 0.57856251, 0.57905406, 0.57914071, 0.57896349,\n",
       "       0.57796149, 0.58031381, 0.57801966, 0.57737821, 0.57846576])"
      ]
     },
     "execution_count": 39,
     "metadata": {},
     "output_type": "execute_result"
    }
   ],
   "source": [
    "distances[ind]"
   ]
  },
  {
   "cell_type": "code",
   "execution_count": 26,
   "metadata": {},
   "outputs": [
    {
     "data": {
      "text/plain": [
       "array([[0.57932212, 0.57926927, 1.4876725 , 0.57752535, 0.57751093,\n",
       "        0.58008641, 0.57851531, 0.57939127, 0.57788703, 0.58051455,\n",
       "        0.57638964, 0.57856169, 0.57731856, 0.57540225, 0.57842387,\n",
       "        0.5798843 , 0.57856251, 0.57905406, 0.57914071, 0.57896349,\n",
       "        0.57796149, 0.58031381, 0.57801966, 0.57737821, 0.57846576]])"
      ]
     },
     "execution_count": 26,
     "metadata": {},
     "output_type": "execute_result"
    }
   ],
   "source": [
    "distances"
   ]
  },
  {
   "cell_type": "code",
   "execution_count": 35,
   "metadata": {},
   "outputs": [
    {
     "data": {
      "text/plain": [
       "array([13], dtype=int64)"
      ]
     },
     "execution_count": 35,
     "metadata": {},
     "output_type": "execute_result"
    }
   ],
   "source": [
    "indices[1]"
   ]
  },
  {
   "cell_type": "code",
   "execution_count": 36,
   "metadata": {},
   "outputs": [
    {
     "data": {
      "text/plain": [
       "array([[0.24270815, 0.63883195, 0.36109495, 0.51753124, 0.50594787,\n",
       "        0.22056591, 0.827375  , 0.3707037 , 0.53539487, 0.65993863]])"
      ]
     },
     "execution_count": 36,
     "metadata": {},
     "output_type": "execute_result"
    }
   ],
   "source": [
    "grid[indices[1]]"
   ]
  },
  {
   "cell_type": "code",
   "execution_count": 25,
   "metadata": {},
   "outputs": [
    {
     "data": {
      "text/plain": [
       "(25,)"
      ]
     },
     "execution_count": 25,
     "metadata": {},
     "output_type": "execute_result"
    }
   ],
   "source": [
    "result = np.zeros(height*width)\n",
    "result.shape"
   ]
  },
  {
   "cell_type": "code",
   "execution_count": 44,
   "metadata": {},
   "outputs": [
    {
     "data": {
      "text/plain": [
       "array([[0.24270815, 0.63883195, 0.36109495, 0.51753124, 0.50594787,\n",
       "        0.22056591, 0.827375  , 0.3707037 , 0.53539487, 0.65993863]])"
      ]
     },
     "execution_count": 44,
     "metadata": {},
     "output_type": "execute_result"
    }
   ],
   "source": [
    "BMU"
   ]
  },
  {
   "cell_type": "code",
   "execution_count": 45,
   "metadata": {},
   "outputs": [
    {
     "data": {
      "text/plain": [
       "array([[0.24166863, 0.62938309, 0.34273731, 0.52995029, 0.48350641,\n",
       "        0.23359315, 0.86080212, 0.38550866, 0.54243903, 0.66059395]])"
      ]
     },
     "execution_count": 45,
     "metadata": {},
     "output_type": "execute_result"
    }
   ],
   "source": [
    "grid[indices[0]]\n"
   ]
  },
  {
   "cell_type": "code",
   "execution_count": 49,
   "metadata": {},
   "outputs": [],
   "source": [
    "distances = cdist(np.atleast_2d(current_input_vector), grid, metric='euclidean')\n"
   ]
  },
  {
   "cell_type": "code",
   "execution_count": 56,
   "metadata": {},
   "outputs": [
    {
     "data": {
      "text/plain": [
       "array([0.72782414, 0.85007941, 0.09142013, 0.37980971, 0.23281673,\n",
       "       0.63567224, 0.53826829, 0.41393331, 0.43777689, 0.05545048])"
      ]
     },
     "execution_count": 56,
     "metadata": {},
     "output_type": "execute_result"
    }
   ],
   "source": [
    "grid[BMU]"
   ]
  },
  {
   "cell_type": "code",
   "execution_count": 57,
   "metadata": {},
   "outputs": [
    {
     "data": {
      "text/plain": [
       "array([1.09616883, 0.98337908, 1.08387082, 1.00036634, 0.95871234,\n",
       "       1.15596167, 1.34843053, 1.13180071, 1.12537182, 1.18504311,\n",
       "       1.17341777, 0.98559838, 0.9647059 , 1.09726282, 1.49401329,\n",
       "       1.04441501, 1.06766281, 0.96869782, 1.1570089 , 1.18262113,\n",
       "       1.0714652 , 0.66854052, 1.40635855, 0.7019746 , 0.99681035])"
      ]
     },
     "execution_count": 57,
     "metadata": {},
     "output_type": "execute_result"
    }
   ],
   "source": [
    "good_indices"
   ]
  },
  {
   "cell_type": "code",
   "execution_count": 22,
   "metadata": {},
   "outputs": [],
   "source": [
    "result = np.zeros(height*width)\n",
    "for key, val in nodes_dist_cur.items():\n",
    "    result[key] = val\n"
   ]
  },
  {
   "cell_type": "code",
   "execution_count": 69,
   "metadata": {},
   "outputs": [
    {
     "data": {
      "text/plain": [
       "<matplotlib.image.AxesImage at 0x12b735c2a30>"
      ]
     },
     "execution_count": 69,
     "metadata": {},
     "output_type": "execute_result"
    },
    {
     "data": {
      "image/png": "[encoded data removed]",
      "text/plain": [
       "<Figure size 432x288 with 1 Axes>"
      ]
     },
     "metadata": {
      "needs_background": "light"
     },
     "output_type": "display_data"
    }
   ],
   "source": [
    "plt.imshow(grid)"
   ]
  },
  {
   "cell_type": "code",
   "execution_count": 76,
   "metadata": {},
   "outputs": [
    {
     "data": {
      "text/plain": [
       "array([0.43151096, 0.47436357, 0.36031906, 0.65641493, 0.7411863 ,\n",
       "       0.76029748, 0.41598486, 0.38624067, 0.30982422, 0.3106539 ])"
      ]
     },
     "execution_count": 76,
     "metadata": {},
     "output_type": "execute_result"
    }
   ],
   "source": [
    "grid[BMU]"
   ]
  },
  {
   "cell_type": "code",
   "execution_count": 87,
   "metadata": {},
   "outputs": [
    {
     "data": {
      "text/plain": [
       "array([[0.91425555],\n",
       "       [0.8528835 ],\n",
       "       [0.87407394],\n",
       "       [0.86242127],\n",
       "       [0.8424868 ],\n",
       "       [0.89160448],\n",
       "       [0.87788946],\n",
       "       [0.77037616],\n",
       "       [0.85177229],\n",
       "       [0.85149759],\n",
       "       [0.86524962],\n",
       "       [0.87603814],\n",
       "       [0.95237236],\n",
       "       [0.89415117],\n",
       "       [0.88211305],\n",
       "       [0.85797468],\n",
       "       [0.80097872],\n",
       "       [0.92053237],\n",
       "       [0.84551572],\n",
       "       [0.81678691],\n",
       "       [0.86615858],\n",
       "       [0.85939565],\n",
       "       [0.83377421],\n",
       "       [0.84680134]])"
      ]
     },
     "execution_count": 87,
     "metadata": {},
     "output_type": "execute_result"
    }
   ],
   "source": [
    "theta_vals"
   ]
  },
  {
   "cell_type": "code",
   "execution_count": 98,
   "metadata": {},
   "outputs": [
    {
     "data": {
      "text/plain": [
       "{0: 0.9999465614968149,\n",
       " 1: 0.9998519883376977,\n",
       " 2: 0.9999410928226397,\n",
       " 3: 0.9999498720197316,\n",
       " 4: 0.9999661564790446,\n",
       " 5: 0.9999307453446225,\n",
       " 6: 0.9999309463155138,\n",
       " 7: 0.9999074993841518,\n",
       " 8: 0.9999491912064564,\n",
       " 9: 0.9998634170353365,\n",
       " 10: 0.9999011589439296,\n",
       " 11: 0.9999230680552351,\n",
       " 12: 0.999955501333197,\n",
       " 13: 0.9999110400318322,\n",
       " 14: 0.9999118613719781,\n",
       " 15: 0.9999369787132975,\n",
       " 16: 0.9999338545399036,\n",
       " 17: 0.9999616131804152,\n",
       " 18: 0.9999472805640168,\n",
       " 19: 0.9999133687274953,\n",
       " 21: 0.9999176985616864,\n",
       " 22: 0.9999346369795346,\n",
       " 23: 0.9999546467723913,\n",
       " 24: 0.9999346927378107}"
      ]
     },
     "execution_count": 98,
     "metadata": {},
     "output_type": "execute_result"
    }
   ],
   "source": [
    "theta_vals"
   ]
  },
  {
   "cell_type": "code",
   "execution_count": 117,
   "metadata": {},
   "outputs": [
    {
     "name": "stdout",
     "output_type": "stream",
     "text": [
      "1\n",
      "2\n",
      "3\n",
      "4\n",
      "5\n",
      "6\n",
      "7\n",
      "8\n",
      "9\n",
      "10\n",
      "11\n",
      "12\n",
      "13\n",
      "14\n",
      "15\n",
      "16\n",
      "17\n",
      "18\n",
      "19\n",
      "20\n",
      "21\n",
      "22\n",
      "23\n",
      "24\n",
      "25\n",
      "26\n",
      "27\n",
      "28\n",
      "29\n",
      "30\n",
      "31\n",
      "32\n",
      "33\n",
      "34\n",
      "35\n",
      "36\n",
      "37\n",
      "38\n",
      "39\n",
      "40\n",
      "41\n",
      "42\n",
      "43\n",
      "44\n",
      "45\n",
      "46\n",
      "47\n",
      "48\n",
      "49\n",
      "50\n",
      "51\n",
      "52\n",
      "53\n",
      "54\n",
      "55\n",
      "56\n",
      "57\n",
      "58\n",
      "59\n",
      "60\n",
      "61\n",
      "62\n",
      "63\n",
      "64\n",
      "65\n",
      "66\n",
      "67\n",
      "68\n",
      "69\n",
      "70\n",
      "71\n",
      "72\n",
      "73\n",
      "74\n",
      "75\n",
      "76\n",
      "77\n",
      "78\n",
      "79\n",
      "80\n",
      "81\n",
      "82\n",
      "83\n",
      "84\n",
      "85\n",
      "86\n",
      "87\n",
      "88\n",
      "89\n",
      "90\n",
      "91\n",
      "92\n",
      "93\n",
      "94\n",
      "95\n",
      "96\n",
      "97\n"
     ]
    },
    {
     "data": {
      "text/plain": [
       "<matplotlib.image.AxesImage at 0x12b730a75b0>"
      ]
     },
     "execution_count": 117,
     "metadata": {},
     "output_type": "execute_result"
    },
    {
     "data": {
      "image/png": "[encoded data removed]",
      "text/plain": [
       "<Figure size 432x288 with 1 Axes>"
      ]
     },
     "metadata": {
      "needs_background": "light"
     },
     "output_type": "display_data"
    }
   ],
   "source": [
    "som = kohonen2(5,5,np.random.random((10, 3)), n_iter=100)\n",
    "som.train()\n",
    "plt.imshow(som.grid)"
   ]
  },
  {
   "cell_type": "code",
   "execution_count": 159,
   "metadata": {},
   "outputs": [
    {
     "data": {
      "text/plain": [
       "<matplotlib.image.AxesImage at 0x12b76107850>"
      ]
     },
     "execution_count": 159,
     "metadata": {},
     "output_type": "execute_result"
    },
    {
     "data": {
      "image/png": "[encoded data removed]",
      "text/plain": [
       "<Figure size 432x288 with 1 Axes>"
      ]
     },
     "metadata": {
      "needs_background": "light"
     },
     "output_type": "display_data"
    }
   ],
   "source": [
    "#%%file updatedkonen.py\n",
    "import numpy as np\n",
    "from scipy.stats import multivariate_normal\n",
    "from scipy.spatial.distance import cdist\n",
    "from matplotlib import pyplot as plt\n",
    "class kohonen3:\n",
    "    \"\"\"example usage: \n",
    "    som = kohonen(5,5,np.random.random((20, 3)), n_iter=100)\n",
    "    som.train()\n",
    "    indices = som.predict(np.random.random((1000,1)))\n",
    "    preds = np.zeros(indices.shape)\n",
    "    for i, index in enumerate(indices):\n",
    "        preds[i] = som.grid[0][index]\n",
    "    preds = np.atleast_2d(preds)\n",
    "    plt.imshow(som.grid, cmap=\"Spectral\")\n",
    "    plt.title('grid after 100 iterations')\n",
    "    plt.imshow(preds.reshape(10,100), cmap='Spectral')\"\"\"\n",
    "    def __init__(self, width, height, input_data, n_iter=100):\n",
    "        self.width = width\n",
    "        self.height = height\n",
    "        self.n_nodes = self.width*self.height\n",
    "        self.input_data = input_data\n",
    "        self.n_iter = n_iter\n",
    "        self.grid = np.random.random((self.width, self.height, self.input_data.shape[0]))\n",
    "        self.sigma_0 = max(self.grid.shape[0], self.grid.shape[1])/2\n",
    "        self.grid = self.grid.reshape(self.grid.shape[0]*self.grid.shape[1], self.input_data.shape[0])\n",
    "        self.lambd = self.n_iter/np.log(self.sigma_0)\n",
    "    \n",
    "    def calc_neighbourhood_radius(self, sigma_0, t):\n",
    "        \"\"\"calculation of neighbourood radius using decaing exponential\"\"\"\n",
    "        return sigma_0*np.exp(-(t/self.lambd))\n",
    "    \n",
    "    def learning_rate(self, t, initial_lr=0.1):\n",
    "        \"\"\"calculation of learning rate using decaing exponential\"\"\"\n",
    "        return initial_lr*np.exp(-t/self.lambd)\n",
    "    \n",
    "    def calculate_distances(self, current_input_vector):\n",
    "        distances = cdist(np.atleast_2d(current_input_vector), self.grid, metric='euclidean')\n",
    "        return distances\n",
    "    \n",
    "    def get_min_distances(self, distances):\n",
    "        return np.argmin(distances)\n",
    "    \n",
    "    def get_valid_neighbours(self, distances, BMU, neighborhood_radius):\n",
    "        ind = np.where(distances < neighborhood_radius)\n",
    "        ind = ind[1][ind[1]!=BMU]\n",
    "        return ind\n",
    "    \n",
    "    def get_valid_influences(self, ind, BMU):\n",
    "        cur_influences = cdist(self.grid[ind], np.atleast_2d(self.grid[BMU]), metric='euclidean')\n",
    "        theta_vals = np.exp(-((cur_influences**2)/(2*(cur_neighborhood_radius)**2)))\n",
    "        return theta_vals\n",
    "    \n",
    "    def update_weights(self, ind, theta_vals, current_input_vec, learning_rate):\n",
    "        self.grid[ind] = self.grid[ind] + learning_rate * theta_vals*(current_input_vec-self.grid[ind])\n",
    "    \n",
    "    def train(self):\n",
    "        for current_time in range(1, self.n_iter+1):\n",
    "            cur_neighborhood_radius = self.calc_neighbourhood_radius(sigma_0, current_time)\n",
    "            current_lr = self.learning_rate(current_time)\n",
    "            current_input_vector = (self.input_data.T[np.random.choice(self.input_data.shape[1])])\n",
    "            distances = self.calculate_distances(current_input_vector)\n",
    "            # get the BMU\n",
    "            BMU = self.get_min_distances(distances)\n",
    "            # find the indices of the weights that are within the current neighbourhood radius\n",
    "            ind = self.get_valid_neighbours(distances, BMU, cur_neighborhood_radius)\n",
    "            # get the influence of those weights\n",
    "            theta_vals = self.get_valid_influences(ind, BMU)\n",
    "            previous_state_grid = self.grid.copy()\n",
    "            # update the weights for the grid in-place\n",
    "            self.update_weights(ind, theta_vals, current_input_vector, current_lr)\n",
    "            # early stopping - if previous state of grid is close to gid (within a tolerance threshold), break out\n",
    "            if np.allclose(previous_state_grid, self.grid, rtol=1e-02, atol=1e-02):\n",
    "                break\n",
    "                \n",
    "som = kohonen3(5,5,np.random.random((20, 3)), n_iter=100)\n",
    "som.train()\n",
    "plt.imshow(som.grid)"
   ]
  },
  {
   "cell_type": "code",
   "execution_count": 157,
   "metadata": {},
   "outputs": [
    {
     "data": {
      "text/plain": [
       "<matplotlib.image.AxesImage at 0x12b7608e8b0>"
      ]
     },
     "execution_count": 157,
     "metadata": {},
     "output_type": "execute_result"
    },
    {
     "data": {
      "image/png": "[encoded data removed]",
      "text/plain": [
       "<Figure size 432x288 with 1 Axes>"
      ]
     },
     "metadata": {
      "needs_background": "light"
     },
     "output_type": "display_data"
    }
   ],
   "source": [
    "som = kohonen3(100,100,np.random.random((30, 3)), n_iter=1000)\n",
    "som.train()\n",
    "plt.imshow(som.grid)"
   ]
  },
  {
   "cell_type": "code",
   "execution_count": 156,
   "metadata": {},
   "outputs": [
    {
     "name": "stdout",
     "output_type": "stream",
     "text": [
      "1\n"
     ]
    },
    {
     "data": {
      "text/plain": [
       "<matplotlib.image.AxesImage at 0x12b7603fd60>"
      ]
     },
     "execution_count": 156,
     "metadata": {},
     "output_type": "execute_result"
    },
    {
     "data": {
      "image/png": "[encoded data removed]",
      "text/plain": [
       "<Figure size 432x288 with 1 Axes>"
      ]
     },
     "metadata": {
      "needs_background": "light"
     },
     "output_type": "display_data"
    }
   ],
   "source": [
    "import numpy as np\n",
    "from scipy.stats import multivariate_normal\n",
    "from scipy.spatial.distance import cdist\n",
    "from matplotlib import pyplot as plt\n",
    "class kohonen2:\n",
    "    \"\"\"example usage: \n",
    "    som = kohonen(5,5,np.random.random((20, 3)), n_iter=100)\n",
    "    som.train()\n",
    "    indices = som.predict(np.random.random((1000,1)))\n",
    "    preds = np.zeros(indices.shape)\n",
    "    for i, index in enumerate(indices):\n",
    "        preds[i] = som.grid[0][index]\n",
    "    preds = np.atleast_2d(preds)\n",
    "    plt.imshow(som.grid, cmap=\"Spectral\")\n",
    "    plt.title('grid after 100 iterations')\n",
    "    plt.imshow(preds.reshape(10,100), cmap='Spectral')\"\"\"\n",
    "    def __init__(self, width, height, input_data, n_iter=100):\n",
    "        self.width = width\n",
    "        self.height = height\n",
    "        self.n_nodes = self.width*self.height\n",
    "        self.input_data = input_data\n",
    "        self.n_iter = n_iter\n",
    "        self.grid = np.random.random((self.width, self.height, self.input_data.shape[0]))\n",
    "        self.sigma_0 = max(self.grid.shape[0], self.grid.shape[1])/2\n",
    "        self.grid = self.grid.reshape(self.grid.shape[0]*self.grid.shape[1], self.input_data.shape[0])\n",
    "        self.lambd = self.n_iter/np.log(self.sigma_0)\n",
    "    \n",
    "    def calc_neighbourhood_radius(self, sigma_0, t):\n",
    "        \"\"\"calculation of neighbourood radius using decaing exponential\"\"\"\n",
    "        return sigma_0*np.exp(-(t/self.lambd))\n",
    "    \n",
    "    def learning_rate(self, t, initial_lr=0.1):\n",
    "        \"\"\"calculation of learning rate using decaing exponential\"\"\"\n",
    "        return initial_lr*np.exp(-t/self.lambd)\n",
    "    \n",
    "    def train(self):\n",
    "        for current_time in range(1, self.n_iter+1):\n",
    "            print(current_time)\n",
    "            cur_neighborhood_radius = self.calc_neighbourhood_radius(sigma_0, current_time)\n",
    "            current_lr = self.learning_rate(current_time)\n",
    "            current_input_vector = (self.input_data.T[np.random.choice(self.input_data.shape[1])])\n",
    "            theta_vals = {}\n",
    "            cur_influence = {}\n",
    "            nodes_dist_cur = {}\n",
    "            best_dist = np.inf\n",
    "            distances = cdist(np.atleast_2d(current_input_vector), self.grid, metric='euclidean')\n",
    "            BMU = np.argmin(distances)\n",
    "            ind = np.where(distances < cur_neighborhood_radius)\n",
    "            ind = ind[1][ind[1]!=BMU]\n",
    "            cur_influences = cdist(self.grid[ind], np.atleast_2d(self.grid[BMU]), metric='euclidean')\n",
    "            theta_vals = np.exp(-((cur_influences**2)/(2*(cur_neighborhood_radius)**2)))\n",
    "            previous_state_grid = self.grid.copy()\n",
    "            # update the weights for the grid\n",
    "            self.grid[ind] = self.grid[ind] + current_lr * theta_vals*(current_input_vector-self.grid[ind])\n",
    "            if np.allclose(previous_state_grid, self.grid, rtol=1e-02, atol=1e-02):\n",
    "                break\n",
    "som = kohonen2(5,5,np.random.random((300, 3)), n_iter=500)\n",
    "som.train()\n",
    "plt.imshow(som.grid)"
   ]
  },
  {
   "cell_type": "code",
   "execution_count": 113,
   "metadata": {},
   "outputs": [
    {
     "name": "stdout",
     "output_type": "stream",
     "text": [
      "1\n",
      "2\n",
      "3\n",
      "4\n",
      "5\n",
      "6\n",
      "7\n",
      "8\n",
      "9\n",
      "10\n",
      "11\n",
      "12\n",
      "13\n",
      "14\n",
      "15\n",
      "16\n",
      "17\n",
      "18\n",
      "19\n",
      "20\n",
      "21\n",
      "22\n",
      "23\n",
      "24\n",
      "25\n",
      "26\n",
      "27\n",
      "28\n",
      "29\n",
      "30\n",
      "31\n",
      "32\n",
      "33\n",
      "34\n",
      "35\n",
      "36\n"
     ]
    }
   ],
   "source": [
    "import numpy as np\n",
    "from scipy.stats import multivariate_normal\n",
    "from scipy.spatial.distance import cdist\n",
    "from matplotlib import pyplot as plt\n",
    "width = 5\n",
    "height = 5\n",
    "n_nodes = width*height\n",
    "input_data = np.random.random((20,3))\n",
    "n_iter = 50\n",
    "grid = np.random.random((width, height, input_data.shape[0]))\n",
    "sigma_0 = max(grid.shape[0], grid.shape[1])/2\n",
    "grid = grid.reshape(grid.shape[0]*grid.shape[1], input_data.shape[0])\n",
    "lambd = n_iter/np.log(sigma_0)\n",
    "def dist(x , y): \n",
    "    \"\"\"euclidean distance metric\"\"\"\n",
    "    return np.linalg.norm(x-y)\n",
    "\n",
    "def calc_neighbourhood_radius(sigma_0, t):\n",
    "    \"\"\"calculation of neighbourood radius using decaing exponential\"\"\"\n",
    "    return sigma_0*np.exp(-(t/lambd))\n",
    "\n",
    "def learning_rate(t, initial_lr=0.1):\n",
    "    \"\"\"calculation of learning rate using decaing exponential\"\"\"\n",
    "    return initial_lr*np.exp(-t/lambd)\n",
    "\n",
    "for current_time in range(1, n_iter+1):\n",
    "    print(current_time)\n",
    "    cur_neighborhood_radius = calc_neighbourhood_radius(sigma_0, current_time)\n",
    "    current_lr = learning_rate(current_time)\n",
    "    current_input_vector = (input_data.T[np.random.choice(input_data.shape[1])])\n",
    "    theta_vals = {}\n",
    "    cur_influence = {}\n",
    "    nodes_dist_cur = {}\n",
    "    best_dist = np.inf\n",
    "    distances = cdist(np.atleast_2d(current_input_vector), grid, metric='euclidean')\n",
    "    BMU = np.argmin(distances)\n",
    "    ind = np.where(distances < cur_neighborhood_radius)\n",
    "    ind = ind[1][ind[1]!=BMU]\n",
    "    cur_influences = cdist(grid[ind], np.atleast_2d(grid[BMU]), metric='euclidean')\n",
    "    theta_vals = np.exp(-((cur_influences**2)/(2*(cur_neighborhood_radius)**2)))\n",
    "    previous_state_grid = grid.copy()\n",
    "    # update the weights for the grid\n",
    "    grid[ind] = grid[ind] + current_lr * theta_vals*(current_input_vector-grid[ind])\n",
    "    if np.allclose(previous_state_grid, grid, rtol=1e-02, atol=1e-02):\n",
    "        break"
   ]
  },
  {
   "cell_type": "code",
   "execution_count": 114,
   "metadata": {},
   "outputs": [
    {
     "data": {
      "text/plain": [
       "<matplotlib.image.AxesImage at 0x12b733ef640>"
      ]
     },
     "execution_count": 114,
     "metadata": {},
     "output_type": "execute_result"
    },
    {
     "data": {
      "image/png": "[encoded data removed]",
      "text/plain": [
       "<Figure size 432x288 with 1 Axes>"
      ]
     },
     "metadata": {
      "needs_background": "light"
     },
     "output_type": "display_data"
    }
   ],
   "source": [
    "plt.imshow(grid)"
   ]
  },
  {
   "cell_type": "code",
   "execution_count": 94,
   "metadata": {},
   "outputs": [
    {
     "name": "stdout",
     "output_type": "stream",
     "text": [
      "1\n",
      "[ 0  1  2  3  4  5  6  7  9 10 11 12 13 14 15 16 17 18 19 20 21 22 23 24]\n",
      "2\n",
      "[ 0  1  2  3  4  5  6  7  8  9 10 11 12 14 15 16 17 18 19 20 21 22 23 24]\n",
      "3\n",
      "[ 0  1  2  3  4  5  6  7  8  9 10 11 12 13 14 15 16 17 19 20 21 22 23 24]\n",
      "4\n",
      "[ 0  1  2  4  5  6  7  8  9 10 11 12 13 14 15 16 17 18 19 20 21 22 23 24]\n",
      "5\n",
      "[ 0  1  2  4  5  6  7  8  9 10 11 12 13 14 15 16 17 18 19 20 21 22 23 24]\n",
      "6\n",
      "[ 0  1  2  3  4  5  6  7  8  9 10 11 12 14 15 16 17 18 19 20 21 22 23 24]\n",
      "7\n",
      "[ 0  1  2  3  4  5  6  7  8  9 10 11 12 13 14 15 16 17 18 19 21 22 23 24]\n",
      "8\n",
      "[ 0  1  2  3  4  5  6  7  8  9 10 11 12 14 15 16 17 18 19 20 21 22 23 24]\n",
      "9\n",
      "[ 0  1  2  3  4  5  6  7  8  9 10 11 12 14 15 16 17 18 19 20 21 22 23 24]\n",
      "10\n",
      "[ 0  1  2  3  4  5  6  7  8  9 10 11 12 14 15 16 17 18 19 20 21 22 23 24]\n",
      "11\n",
      "[ 0  1  2  3  4  5  6  7  8  9 10 11 12 13 14 16 17 18 19 20 21 22 23 24]\n",
      "12\n",
      "[ 0  2  3  4  5  6  7  8  9 10 11 12 13 14 15 16 17 18 19 20 21 22 23 24]\n",
      "13\n",
      "[ 0  1  2  3  4  5  6  7  8  9 10 11 13 14 15 16 17 18 19 20 21 22 23 24]\n",
      "14\n",
      "[ 0  1  2  3  4  5  6  7  8  9 10 11 12 13 14 15 16 17 18 20 21 22 23 24]\n",
      "15\n",
      "[ 0  1  2  3  4  5  6  7  8  9 10 11 12 13 14 15 16 17 18 19 20 21 23 24]\n",
      "16\n",
      "[ 0  1  2  3  4  5  7  8  9 10 11 12 13 14 15 16 17 18 19 20 21 22 23 24]\n",
      "17\n",
      "[ 0  1  2  3  4  5  6  7  8  9 10 11 12 13 14 15 16 17 18 19 20 21 23 24]\n",
      "18\n",
      "[ 0  1  2  3  4  5  6  7  8  9 10 11 12 14 15 16 17 18 19 20 21 22 23 24]\n",
      "19\n",
      "[ 0  1  2  3  5  6  7  8  9 10 11 12 13 14 15 16 17 18 19 20 21 22 23 24]\n",
      "20\n",
      "[ 0  1  2  3  4  5  6  7  8  9 10 12 13 14 15 16 17 18 19 20 21 22 23 24]\n",
      "21\n",
      "[ 0  2  3  4  5  6  7  8  9 10 11 12 13 14 15 16 17 18 19 20 21 22 23 24]\n",
      "22\n",
      "[ 0  1  2  3  4  5  6  7  8  9 10 11 12 13 14 16 17 18 19 20 21 22 23 24]\n",
      "23\n",
      "[ 0  1  2  3  4  5  6  7  8  9 10 11 12 13 14 15 16 17 18 19 20 21 22 23]\n",
      "24\n",
      "[ 0  1  2  3  4  5  6  7  8 10 11 12 13 14 15 16 17 18 19 20 21 22 23 24]\n",
      "25\n",
      "[ 0  1  2  3  4  5  6  7  8  9 10 11 12 13 14 15 17 18 19 20 21 22 23 24]\n",
      "26\n",
      "[ 0  1  2  4  5  6  7  8  9 10 11 12 13 14 15 16 17 18 19 20 21 22 23 24]\n",
      "27\n",
      "[ 1  2  3  4  5  6  7  8  9 10 11 12 13 14 15 16 17 18 19 20 21 22 23 24]\n",
      "28\n",
      "[ 0  2  3  4  5  6  7  8  9 10 11 12 13 14 15 16 17 18 19 20 21 22 23 24]\n",
      "29\n",
      "[ 0  1  2  3  4  5  6  7  8  9 11 12 13 14 15 16 17 18 19 20 21 22 23 24]\n",
      "30\n",
      "[ 0  1  2  3  4  5  6  7  8  9 10 11 12 14 15 16 17 18 19 20 21 22 23 24]\n",
      "31\n",
      "[ 0  1  2  3  4  5  6  7  8  9 10 11 12 13 14 15 16 17 18 19 20 21 22 23]\n",
      "32\n",
      "[ 0  1  2  3  4  5  7  8  9 10 11 12 13 14 15 16 17 18 19 20 21 22 23 24]\n",
      "33\n",
      "[ 0  1  2  3  4  5  6  7  8  9 10 11 12 13 14 15 16 17 18 19 20 21 23 24]\n",
      "34\n",
      "[ 0  1  2  3  4  5  6  7  8  9 10 11 12 13 14 16 17 18 19 20 21 22 23 24]\n",
      "35\n",
      "[ 0  1  2  3  4  5  6  7  8  9 10 11 12 13 14 15 16 17 18 19 20 22 23 24]\n",
      "36\n",
      "[ 0  1  2  3  4  5  6  7  8  9 10 11 12 13 14 15 16 17 18 19 20 21 22 23]\n",
      "37\n",
      "[ 0  1  2  3  4  5  6  7  8  9 10 11 12 13 14 15 16 17 18 19 20 21 22 24]\n",
      "38\n",
      "[ 0  1  2  3  4  5  6  7  8  9 10 11 12 13 14 15 16 17 18 19 20 21 22 24]\n",
      "39\n",
      "[ 0  1  2  3  4  5  6  7  8  9 10 11 12 13 15 16 17 18 19 20 21 22 23 24]\n",
      "40\n",
      "[ 0  1  2  3  4  5  6  7  8  9 10 11 12 13 14 15 16 17 18 19 21 22 23 24]\n",
      "41\n",
      "[ 0  1  2  3  4  5  6  7  8  9 11 12 13 14 15 16 17 18 19 20 21 22 23 24]\n",
      "42\n",
      "[ 0  1  2  3  4  5  6  7  8  9 10 11 12 13 14 15 16 17 18 19 21 22 23 24]\n",
      "43\n",
      "[ 0  1  2  3  4  5  6  7  8  9 10 11 12 13 14 15 16 17 18 19 21 22 23 24]\n"
     ]
    }
   ],
   "source": [
    "import numpy as np\n",
    "from scipy.stats import multivariate_normal\n",
    "from scipy.spatial.distance import cdist\n",
    "from matplotlib import pyplot as plt\n",
    "width = 5\n",
    "height = 5\n",
    "n_nodes = width*height\n",
    "input_data = np.random.random((10,3))\n",
    "n_iter = 50\n",
    "sigma_0 = max(height, width) / 2\n",
    "grid = np.random.random((width, height, input_data.shape[0]))\n",
    "sigma_0 = max(grid.shape[0], grid.shape[1])/2\n",
    "grid = grid.reshape(grid.shape[0]*grid.shape[1], input_data.shape[0])\n",
    "lambd = n_iter/np.log(sigma_0)\n",
    "def dist(x , y): \n",
    "    \"\"\"euclidean distance metric\"\"\"\n",
    "    return np.linalg.norm(x-y)\n",
    "\n",
    "def calc_neighbourhood_radius(sigma_0, t):\n",
    "    \"\"\"calculation of neighbourood radius using decaing exponential\"\"\"\n",
    "    return sigma_0*np.exp(-(t/lambd))\n",
    "\n",
    "def learning_rate(t, initial_lr=0.1):\n",
    "    \"\"\"calculation of learning rate using decaing exponential\"\"\"\n",
    "    return initial_lr*np.exp(-t/lambd)\n",
    "\n",
    "for current_time in range(1, n_iter+1):\n",
    "    print(current_time)\n",
    "    cur_neighborhood_radius = calc_neighbourhood_radius(sigma_0, current_time)\n",
    "    current_lr = learning_rate(current_time)\n",
    "    current_input_vector = (input_data.T[np.random.choice(input_data.shape[1])])\n",
    "    theta_vals = {}\n",
    "    cur_influence = {}\n",
    "    nodes_dist_cur = {}\n",
    "    best_dist = np.inf\n",
    "    distances = cdist(np.atleast_2d(current_input_vector), grid, metric='euclidean')\n",
    "    BMU = np.argmin(distances)\n",
    "    ind = np.where(distances < cur_neighborhood_radius)\n",
    "    ind = ind[1][ind[1]!=BMU]\n",
    "    print(ind)\n",
    "    for val in ind:\n",
    "        # function I chose to use for this calculation (with the euclidean distance) is the multivariate normal distribution \n",
    "        cur_influence[val] = dist(multivariate_normal.pdf(grid[BMU]), multivariate_normal.pdf(grid[val]))\n",
    "        # get the theta vals\n",
    "        theta_vals[val] = np.exp(-((cur_influence[val]**2)/(2*(cur_neighborhood_radius)**2)))\n",
    "    previous_state_grid = grid.copy()\n",
    "    # update the weights for the grid\n",
    "    for key, val in theta_vals.items():\n",
    "        grid[key] = grid[key] + current_lr*theta_vals[key]*(current_input_vector-grid[key])\n",
    "    if np.allclose(previous_state_grid, grid, rtol=1e-02, atol=1e-02):\n",
    "        break"
   ]
  },
  {
   "cell_type": "code",
   "execution_count": 61,
   "metadata": {},
   "outputs": [
    {
     "data": {
      "text/plain": [
       "array([ 0,  1,  2,  3,  4,  5,  6,  7,  8,  9, 10, 11, 12, 13, 14, 15, 16,\n",
       "       17, 18, 19, 20, 21, 22, 23, 24], dtype=int64)"
      ]
     },
     "execution_count": 61,
     "metadata": {},
     "output_type": "execute_result"
    }
   ],
   "source": [
    "ind[1]"
   ]
  },
  {
   "cell_type": "code",
   "execution_count": 59,
   "metadata": {},
   "outputs": [
    {
     "data": {
      "text/plain": [
       "array([ 0,  1,  2,  3,  4,  5,  6,  7,  8, 10, 11, 12, 13, 14, 15, 16, 17,\n",
       "       18, 19, 20, 21, 22, 23, 24], dtype=int64)"
      ]
     },
     "execution_count": 59,
     "metadata": {},
     "output_type": "execute_result"
    }
   ],
   "source": [
    "good_indices"
   ]
  },
  {
   "cell_type": "code",
   "execution_count": 58,
   "metadata": {},
   "outputs": [
    {
     "name": "stdout",
     "output_type": "stream",
     "text": [
      "1\n",
      "2\n",
      "3\n",
      "4\n",
      "5\n",
      "6\n",
      "7\n",
      "8\n",
      "9\n",
      "10\n",
      "11\n",
      "12\n",
      "13\n",
      "14\n",
      "15\n",
      "16\n",
      "17\n",
      "18\n",
      "19\n",
      "20\n",
      "21\n",
      "22\n",
      "23\n",
      "24\n",
      "25\n",
      "26\n",
      "27\n",
      "28\n",
      "29\n",
      "30\n",
      "31\n",
      "32\n",
      "33\n",
      "34\n",
      "35\n",
      "36\n",
      "37\n",
      "38\n",
      "39\n",
      "40\n",
      "41\n",
      "42\n",
      "43\n",
      "44\n",
      "45\n",
      "46\n",
      "47\n",
      "48\n",
      "49\n",
      "50\n",
      "51\n",
      "52\n",
      "53\n",
      "54\n",
      "55\n",
      "56\n",
      "57\n",
      "58\n",
      "59\n",
      "60\n",
      "61\n",
      "62\n",
      "63\n",
      "64\n",
      "65\n",
      "66\n",
      "67\n",
      "68\n",
      "69\n",
      "70\n",
      "71\n",
      "72\n",
      "73\n",
      "74\n",
      "75\n",
      "76\n",
      "77\n",
      "78\n",
      "79\n",
      "80\n",
      "81\n",
      "82\n",
      "83\n",
      "84\n",
      "85\n",
      "86\n",
      "87\n",
      "88\n",
      "89\n",
      "90\n",
      "91\n",
      "92\n",
      "93\n",
      "94\n",
      "95\n"
     ]
    }
   ],
   "source": [
    "import numpy as np\n",
    "from scipy.stats import multivariate_normal\n",
    "from scipy.spatial.distance import cdist\n",
    "from matplotlib import pyplot as plt\n",
    "width = 5\n",
    "height = 5\n",
    "n_nodes = width*height\n",
    "input_data = np.random.random((10,3))\n",
    "n_iter = 100\n",
    "sigma_0 = max(height, width) / 2\n",
    "grid = np.random.random((width, height, input_data.shape[0]))\n",
    "sigma_0 = max(grid.shape[0], grid.shape[1])/2\n",
    "grid = grid.reshape(grid.shape[0]*grid.shape[1], input_data.shape[0])\n",
    "lambd = n_iter/np.log(sigma_0)\n",
    "def dist(x , y): \n",
    "    \"\"\"euclidean distance metric\"\"\"\n",
    "    return np.linalg.norm(x-y)\n",
    "\n",
    "def calc_neighbourhood_radius(sigma_0, t):\n",
    "    \"\"\"calculation of neighbourood radius using decaing exponential\"\"\"\n",
    "    return sigma_0*np.exp(-(t/lambd))\n",
    "\n",
    "def learning_rate(t, initial_lr=0.1):\n",
    "    \"\"\"calculation of learning rate using decaing exponential\"\"\"\n",
    "    return initial_lr*np.exp(-t/lambd)\n",
    "\n",
    "for current_time in range(1, n_iter+1):\n",
    "    print(current_time)\n",
    "    cur_neighborhood_radius = calc_neighbourhood_radius(sigma_0, current_time)\n",
    "    current_lr = learning_rate(current_time)\n",
    "    current_input_vector = (input_data.T[np.random.choice(input_data.shape[1])])\n",
    "    theta_vals = {}\n",
    "    cur_influence = {}\n",
    "    nodes_dist_cur = {}\n",
    "    best_dist = np.inf\n",
    "    for idx2, val in enumerate(grid): # find the smallest distance in the grid\n",
    "        cur_dist = dist(val, current_input_vector)\n",
    "        nodes_dist_cur[idx2] = cur_dist\n",
    "        if cur_dist < best_dist:\n",
    "            best_dist = cur_dist\n",
    "            BMU = idx2  # set the BMU to node with smallest distance\n",
    "    result = np.zeros(height*width)\n",
    "    for key, val in nodes_dist_cur.items():\n",
    "        result[key] = val\n",
    "    good_indices = np.argwhere(result<cur_neighborhood_radius) # find indices of nodes which are below threshold for neighborhood radius\n",
    "    good_indices = good_indices[good_indices!=BMU]\n",
    "    for val in good_indices:\n",
    "        # function I chose to use for this calculation (with the euclidean distance) is the multivariate normal distribution \n",
    "        cur_influence[val] = dist(multivariate_normal.pdf(grid[BMU]), multivariate_normal.pdf(grid[val]))\n",
    "        # get the theta vals\n",
    "        theta_vals[val] = np.exp(-((cur_influence[val]**2)/(2*(cur_neighborhood_radius)**2)))\n",
    "    previous_state_grid = grid.copy()\n",
    "    # update the weights for the grid\n",
    "    for key, val in theta_vals.items():\n",
    "        grid[key] = grid[key] + current_lr*theta_vals[key]*(current_input_vector-grid[key])\n",
    "    if np.allclose(previous_state_grid, grid, rtol=1e-02, atol=1e-02):\n",
    "        break"
   ]
  },
  {
   "cell_type": "code",
   "execution_count": null,
   "metadata": {},
   "outputs": [],
   "source": [
    "import numpy as np\n",
    "from scipy.stats import multivariate_normal\n",
    "from scipy.spatial.distance import cdist\n",
    "from matplotlib import pyplot as plt\n",
    "class kohonen():\n",
    "    \"\"\"example usage: \n",
    "    som = kohonen(5,5,np.random.random((20, 3)), n_iter=100)\n",
    "    som.train()\n",
    "    indices = som.predict(np.random.random((1000,1)))\n",
    "    preds = np.zeros(indices.shape)\n",
    "    for i, index in enumerate(indices):\n",
    "        preds[i] = som.grid[0][index]\n",
    "    preds = np.atleast_2d(preds)\n",
    "    plt.imshow(som.grid, cmap=\"Spectral\")\n",
    "    plt.title('grid after 100 iterations')\n",
    "    plt.imshow(preds.reshape(10,100), cmap='Spectral')\"\"\"\n",
    "    def __init__(self, width, height, input_data, n_iter=100):\n",
    "        self.width = width\n",
    "        self.height = height\n",
    "        self.n_nodes = self.width*self.height\n",
    "        self.input_data = input_data\n",
    "        self.n_iter = n_iter\n",
    "        self.sigma_0 = max(self.height, self.width) / 2\n",
    "        self.grid = np.random.random((self.width, self.height, self.input_data.shape[0]))\n",
    "        self.sigma_0 = max(self.grid.shape[0], self.grid.shape[1])/2\n",
    "        self.grid = self.grid.reshape(self.grid.shape[0]*self.grid.shape[1], self.input_data.shape[0])\n",
    "        self.lambd = self.n_iter/np.log(self.sigma_0)\n",
    "\n",
    "    def dist(self, x , y): \n",
    "        \"\"\"euclidean distance metric\"\"\"\n",
    "        return np.linalg.norm(x-y)\n",
    "    \n",
    "    def calc_neighbourhood_radius(self, sigma_0, t):\n",
    "        \"\"\"calculation of neighbourood radius using decaing exponential\"\"\"\n",
    "        return sigma_0*np.exp(-(t/self.lambd))\n",
    "    \n",
    "    def learning_rate(self, t, initial_lr=0.1):\n",
    "        \"\"\"calculation of learning rate using decaing exponential\"\"\"\n",
    "        return initial_lr*np.exp(-t/self.lambd)\n",
    "    \n",
    "    def train(self):\n",
    "        for current_time in range(1, self.n_iter+1):\n",
    "            print(current_time)\n",
    "            cur_neighborhood_radius = self.calc_neighbourhood_radius(self.sigma_0, current_time)\n",
    "            current_lr = self.learning_rate(current_time)\n",
    "            current_input_vector = (self.input_data.T[np.random.choice(self.input_data.shape[1])])\n",
    "            theta_vals = {}\n",
    "            cur_influence = {}\n",
    "            nodes_dist_cur = {}\n",
    "            best_dist = np.inf\n",
    "            for idx2, val in enumerate(self.grid): # find the smallest distance in the grid\n",
    "                cur_dist = self.dist(val, current_input_vector)\n",
    "                nodes_dist_cur[idx2] = cur_dist\n",
    "                if cur_dist < best_dist:\n",
    "                    best_dist = cur_dist\n",
    "                    BMU = idx2  # set the BMU to node with smallest distance\n",
    "            result = np.zeros(self.height*self.width)\n",
    "            for key, val in nodes_dist_cur.items():\n",
    "                result[key] = val\n",
    "            good_indices = np.argwhere(result<cur_neighborhood_radius) # find indices of nodes which are below threshold for neighborhood radius\n",
    "            good_indices = good_indices[good_indices!=BMU]\n",
    "            for val in good_indices:\n",
    "                # function I chose to use for this calculation (with the euclidean distance) is the multivariate normal distribution \n",
    "                cur_influence[val] = self.dist(multivariate_normal.pdf(self.grid[BMU]), multivariate_normal.pdf(self.grid[val]))\n",
    "                # get the theta vals\n",
    "                theta_vals[val] = np.exp(-((cur_influence[val]**2)/(2*(cur_neighborhood_radius)**2)))\n",
    "            previous_state_grid = self.grid.copy()\n",
    "            # update the weights for the grid\n",
    "            for key, val in theta_vals.items():\n",
    "                self.grid[key] = self.grid[key] + current_lr*theta_vals[key]*(current_input_vector-self.grid[key])\n",
    "            if np.allclose(previous_state_grid, self.grid, rtol=1e-02, atol=1e-02):\n",
    "                break\n",
    "        return self.grid\n",
    "    \n",
    "    def predict(self, samples):\n",
    "        \"\"\"use this function for predicting the label for a random color\"\"\"\n",
    "        result = []\n",
    "        for sample in samples.ravel():\n",
    "            distances = cdist(self.grid[0][:,None], np.atleast_2d(sample), metric='euclidean')\n",
    "            indices = np.argwhere(distances==distances.min())\n",
    "            result.append(indices[0,0])\n",
    "        return np.array(result)\n",
    "\n"
   ]
  }
 ],
 "metadata": {
  "kernelspec": {
   "display_name": "Python 3 (ipykernel)",
   "language": "python",
   "name": "python3"
  },
  "language_info": {
   "codemirror_mode": {
    "name": "ipython",
    "version": 3
   },
   "file_extension": ".py",
   "mimetype": "text/x-python",
   "name": "python",
   "nbconvert_exporter": "python",
   "pygments_lexer": "ipython3",
   "version": "3.8.8"
  }
 },
 "nbformat": 4,
 "nbformat_minor": 2
}
