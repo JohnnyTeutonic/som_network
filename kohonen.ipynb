{
 "cells": [
  {
   "cell_type": "markdown",
   "metadata": {},
   "source": [
    "# Self Organising Map Challenge\n",
    "\n",
    "## The Kohonen Network\n",
    "\n",
    "The Kohonen Self Organizing Map (SOM) provides a data visualization technique which helps to understand high dimensional data by reducing the dimensions of data to a map. SOM also represents clustering concept by grouping similar data together.\n",
    "\n",
    "Unlike other learning technique in neural networks, training a SOM requires no target vector. A SOM learns to classify the training data without any external supervision.\n",
    "\n",
    "![Network](http://www.pitt.edu/~is2470pb/Spring05/FinalProjects/Group1a/tutorial/kohonen1.gif)\n",
    "\n",
    "### Structure\n",
    "A network has a width and a height that descibes the grid of nodes.  For example, the grid may be 4x4, and so there would be 16 nodes.\n",
    "\n",
    "Each node has a weight for each value in the input vector.  A weight is simply a float value that the node multiplies the input value by to determine how influential it is (see below)\n",
    "\n",
    "Each node has a set of weights that match the size of the input vector.  For example, if the input vector has 10 elements, each node would have 10 weights.\n",
    "\n",
    "### Training \n",
    "To train the network\n",
    "\n",
    "1. Each node's weights are initialized.\n",
    "2. We enumerate through the training data for some number of iterations (repeating if necessary).  The current value we are training against will be referred to as the `current input vector`\n",
    "3. Every node is examined to calculate which one's weights are most like the input vector. The winning node is commonly known as the Best Matching Unit (BMU).\n",
    "4. The radius of the neighbourhood of the BMU is now calculated. This is a value that starts large, typically set to the 'radius' of the lattice,  but diminishes each time-step. Any nodes found within this radius are deemed to be inside the BMU's neighbourhood.\n",
    "5. Each neighbouring node's (the nodes found in step 4) weights are adjusted to make them more like the input vector. The closer a node is to the BMU, the more its weights get altered.\n",
    "6. Go to step 2 until we've completed N iterations.\n",
    "    \n",
    "\n",
    "### Calculating the Best Matching Unit (BMU)\n",
    "\n",
    "To determine the best matching unit, one method is to iterate through all the nodes and calculate the Euclidean distance between each node's weight vector and the current input vector. The node with a weight vector closest to the input vector is tagged as the BMU.\n",
    "\n",
    "The Euclidean distance $\\mathsf{distance}_{i}$ (from the input vector $V$ to the $i$th node's weights $W_i$)is given as (using Pythagoras):\n",
    "\n",
    "$$ \\mathsf{distance}_{i}=\\sqrt{\\sum_{k=0}^{k=n}(V_k - W_{i_k})^2}$$\n",
    "\n",
    "where V is the current input vector and $W_i$ is the node's weight vector.  $n$ is the size of the input & weight vector.\n",
    "\n",
    "*Note*: $V$ and $W$ are vectors.  $V$ is the input vector, and $W_i$ is the weight vector of the $i$th node.  $V_k$ and $W_{i_k}$ represent the $k$'th value within those vectors.  \n",
    "\n",
    "The BMU is the node with the minimal distance for the current input vector\n",
    "\n",
    "### Calculating the Neighbourhood Radius\n",
    "\n",
    "The next step is to calculate which of the other nodes are within the BMU's neighbourhood. All these nodes will have their weight vectors altered.\n",
    "\n",
    "First we calculate what the radius of the neighbourhood should be and then use Pythagoras to determine if each node is within the radial distance or not.\n",
    "\n",
    "A unique feature of the Kohonen learning algorithm is that the area of the neighbourhood shrinks over time. To do this we use the exponential decay function:\n",
    "\n",
    "Given a desired number of training iterations $n$:\n",
    "$$n_{\\mathsf{max iterations}} = 100$$\n",
    "\n",
    "Calculate the radius $\\sigma_t$ at iteration number $t$:\n",
    "\n",
    "$$\\sigma_t = \\sigma_0 \\exp\\left(- \\frac{t}{\\lambda} \\right) \\qquad t = 1,2,3,4... $$\n",
    "\n",
    "Where $\\sigma_0$ denotes the neighbourhood radius at iteration $t=0$, $t$ is the current iteration. We define $\\sigma_0$ (the initial radius) and $\\lambda$ (the time constant) as below:\n",
    "\n",
    "$$\\sigma_0 = \\frac{\\max(width,height)}{2} \\qquad \\lambda = \\frac{n_{\\mathsf{max iterations}}}{\\log(\\sigma_0)} $$\n",
    "\n",
    "Where $width$ & $height$ are the width and height of the grid.\n",
    "\n",
    "### Calculating the Learning Rate\n",
    "\n",
    "We define the initial leanring rate $\\alpha_0$ at iteration $t = 0$ as:\n",
    "$$\\alpha_0 = 0.1$$\n",
    "\n",
    "So, we can calculate the learning rate at a given iteration t as:\n",
    "\n",
    "$$\\alpha_t = \\alpha_0 \\exp \\left(- \\frac{t}{\\lambda} \\right) $$\n",
    "\n",
    "where $t$ is the iteration number, $\\lambda$ is the time constant (calculated above)\n",
    "        \n",
    "### Calculating the Influence\n",
    "\n",
    "As well as the learning rate, we need to calculate the influence $\\theta_t$ of the learning/training at a given iteration $t$.  \n",
    "\n",
    "So for each node, we need to caclulate the euclidean distance $d_i$ from the BMU to that node.  Similar to when we calculate the distance to find the BMU, we use Pythagoras.  The current ($i$th) node's x position is given by $x(W_i)$, and the BMU's x position is, likewise, given by $x(Z)$.  Similarly, $y()$ returns the y position of a node.\n",
    "\n",
    "$$ d_{i}=\\sqrt{(x(W_i) - x(Z))^2 + (y(W_i) - y(Z))^2} $$\n",
    "\n",
    "Then, the influence decays over time according to:\n",
    "\n",
    "$$\\theta_t = \\exp \\left( - \\frac{d_{i}^2}{2\\sigma_t^2} \\right) $$\n",
    "\n",
    "Where $\\sigma_t$ is the neighbourhood radius at iteration $t$ as calculated above. \n",
    "\n",
    "Note: You will need to come up with an approach to x() and y().\n",
    "\n",
    "\n",
    "### Updating the Weights\n",
    "\n",
    "To update the weights of a given node, we use:\n",
    "\n",
    "$$W_{i_{t+1}} = W_{i_t} + \\alpha_t \\theta_t (V_t - W_{i_t})$$\n",
    "        \n",
    "So $W_{i_{t+1}}$ is the new value of the weight for the $i$th node, $V_t$ is the current value of the training data, $W_{i_t}$ is the current weight and $\\alpha_t$ and $\\theta_t$ are the learning rate and influence calculated above.\n",
    "\n",
    "*Note*: the $W$ and $V$ are vectors "
   ]
  },
  {
   "cell_type": "markdown",
   "metadata": {},
   "source": [
    "## Challenge\n",
    "\n",
    "In this challenge, you need to implement a SOM such that it can categorise a set of random 3-dimensional colours.  The output should be an image of the organised data.  \n",
    "\n",
    "### Expectations and Criteria\n",
    "- Be prepared to talk through your decisions & thinking (we encourage you to include these in code comments too!)\n",
    "- You may use any language you like (the examples given below are using Python)\n",
    "- Avoid libraries that would do too much of the work for you. For example, in Python a good approach would be to use `numpy`, but no packages with SOM specific functionality\n",
    "- Try and make your code as efficient as possible. Feel free to deviate from a literal interpretation of the instructions given under the **Training** heading above\n",
    "- Consider the best way to structure your code and code base for later use by other developers or in anticipation of productionisation (you don't need to use a Jupyter Notebook)\n",
    "- Include any tests you may have used (tests are not required however)\n",
    "- Include a `Dockerfile` to package your code for production\n",
    "- Be prepared to discuss your approach and process to productionise this application\n",
    "- You can use code below to generate the trainig data of 10 colours:"
   ]
  },
  {
   "cell_type": "markdown",
   "metadata": {},
   "source": [
    "### 2. Train a 10x10 network over 100 iterations\n",
    "\n",
    "- Training data is a random set of 20 colours\n",
    "- How long does this take?\n",
    "- What does the map look like? (You will need to translate the weights of each node in the map to pixel data)\n",
    "- What does this look like if you perform 200 & 500 iterations?"
   ]
  },
  {
   "cell_type": "markdown",
   "metadata": {},
   "source": [
    "### 3. Train a 100x100 network over 1000 iterations\n",
    "\n",
    "- This network will likely be significantly slower to train\n",
    "- What could you do to improve performance?\n",
    "- What does the network look like after 1000 iterations?"
   ]
  },
  {
   "cell_type": "code",
   "execution_count": 14,
   "metadata": {},
   "outputs": [],
   "source": [
    "import numpy as np\n",
    "from scipy.stats import multivariate_normal\n",
    "from scipy.spatial.distance import cdist\n",
    "from matplotlib import pyplot as plt\n",
    "class kohonen():\n",
    "    \"\"\"example usage: \n",
    "    som = kohonen(5,5,np.random.random((20, 3)), n_iter=100)\n",
    "    som.train()\n",
    "    indices = som.predict(np.random.random((1000,1)))\n",
    "    preds = np.zeros(indices.shape)\n",
    "    for i, index in enumerate(indices):\n",
    "        preds[i] = som.grid[0][index]\n",
    "    preds = np.atleast_2d(preds)\n",
    "    plt.imshow(som.grid, cmap=\"Spectral\")\n",
    "    plt.title('grid after 100 iterations')\n",
    "    plt.imshow(preds.reshape(10,100), cmap='Spectral')\"\"\"\n",
    "    def __init__(self, width, height, input_data, n_iter=100):\n",
    "        self.width = width\n",
    "        self.height = height\n",
    "        self.n_nodes = self.width*self.height\n",
    "        self.input_data = input_data\n",
    "        self.n_iter = n_iter\n",
    "        self.sigma_0 = max(self.height, self.width) / 2\n",
    "        self.grid = np.random.random((self.width, self.height, self.input_data.shape[0]))\n",
    "        self.sigma_0 = max(self.grid.shape[0], self.grid.shape[1])/2\n",
    "        self.grid = self.grid.reshape(self.grid.shape[0]*self.grid.shape[1], self.input_data.shape[0])\n",
    "        self.lambd = self.n_iter/np.log(self.sigma_0)\n",
    "\n",
    "    def dist(self, x , y): \n",
    "        \"\"\"euclidean distance metric\"\"\"\n",
    "        return np.linalg.norm(x-y)\n",
    "    \n",
    "    def calc_neighbourhood_radius(self, sigma_0, t):\n",
    "        \"\"\"calculation of neighbourood radius using decaing exponential\"\"\"\n",
    "        return sigma_0*np.exp(-(t/self.lambd))\n",
    "    \n",
    "    def learning_rate(self, t, initial_lr=0.1):\n",
    "        \"\"\"calculation of learning rate using decaing exponential\"\"\"\n",
    "        return initial_lr*np.exp(-t/self.lambd)\n",
    "    \n",
    "    def train(self):\n",
    "        for current_time in range(1, self.n_iter+1):\n",
    "            print(current_time)\n",
    "            cur_neighborhood_radius = self.calc_neighbourhood_radius(self.sigma_0, current_time)\n",
    "            current_lr = self.learning_rate(current_time)\n",
    "            current_input_vector = (self.input_data.T[np.random.choice(self.input_data.shape[1])])\n",
    "            theta_vals = {}\n",
    "            cur_influence = {}\n",
    "            nodes_dist_cur = {}\n",
    "            best_dist = np.inf\n",
    "            for idx2, val in enumerate(self.grid): # find the smallest distance in the grid\n",
    "                cur_dist = self.dist(val, current_input_vector)\n",
    "                nodes_dist_cur[idx2] = cur_dist\n",
    "                if cur_dist < best_dist:\n",
    "                    best_dist = cur_dist\n",
    "                    BMU = idx2  # set the BMU to node with smallest distance\n",
    "            result = np.zeros(self.height*self.width)\n",
    "            for key, val in nodes_dist_cur.items():\n",
    "                result[key] = val\n",
    "            good_indices = np.argwhere(result<cur_neighborhood_radius) # find indices of nodes which are below threshold for neighborhood radius\n",
    "            good_indices = good_indices[good_indices!=BMU]\n",
    "            for val in good_indices:\n",
    "                # function I chose to use for this calculation (with the euclidean distance) is the multivariate normal distribution \n",
    "                cur_influence[val] = self.dist(multivariate_normal.pdf(self.grid[BMU]), multivariate_normal.pdf(self.grid[val]))\n",
    "                # get the theta vals\n",
    "                theta_vals[val] = np.exp(-((cur_influence[val]**2)/(2*(cur_neighborhood_radius)**2)))\n",
    "            previous_state_grid = self.grid.copy()\n",
    "            # update the weights for the grid\n",
    "            for key, val in theta_vals.items():\n",
    "                self.grid[key] = self.grid[key] + current_lr*theta_vals[key]*(current_input_vector-self.grid[key])\n",
    "            if np.allclose(previous_state_grid, self.grid, rtol=1e-02, atol=1e-02):\n",
    "                break\n",
    "        return self.grid\n",
    "    \n",
    "    def predict(self, samples):\n",
    "        \"\"\"use this function for predicting the label for a random color\"\"\"\n",
    "        result = []\n",
    "        for sample in samples.ravel():\n",
    "            distances = cdist(self.grid[0][:,None], np.atleast_2d(sample), metric='euclidean')\n",
    "            indices = np.argwhere(distances==distances.min())\n",
    "            result.append(indices[0,0])\n",
    "        return np.array(result)\n",
    "\n"
   ]
  },
  {
   "cell_type": "markdown",
   "metadata": {},
   "source": [
    "### 1. Implement a Kohonen network\n",
    "- Use the above description to implement a Kohonen network\n",
    "- Make sure you can configure the size of the input vector and the size of the map\n",
    "- Make sure node's weights are initialized to random values"
   ]
  },
  {
   "cell_type": "code",
   "execution_count": 3,
   "metadata": {},
   "outputs": [
    {
     "data": {
      "text/plain": [
       "array([[0.51233985, 0.91411423, 0.85604135],\n",
       "       [0.15282831, 0.80546827, 0.29262641],\n",
       "       [0.39513244, 0.56797458, 0.16118512],\n",
       "       [0.29484338, 0.81575272, 0.54711364],\n",
       "       [0.36793674, 0.4485905 , 0.06070865],\n",
       "       [0.24947131, 0.04495051, 0.28693613],\n",
       "       [0.01096796, 0.6254668 , 0.37920729],\n",
       "       [0.03811757, 0.95483206, 0.97917686],\n",
       "       [0.65123375, 0.2653825 , 0.66816935],\n",
       "       [0.16032272, 0.27236429, 0.75605086]])"
      ]
     },
     "execution_count": 3,
     "metadata": {},
     "output_type": "execute_result"
    }
   ],
   "source": [
    "# Generate Data\n",
    "import numpy as np\n",
    "input_data = np.random.random((10,3))\n",
    "input_data"
   ]
  },
  {
   "cell_type": "code",
   "execution_count": 186,
   "metadata": {},
   "outputs": [
    {
     "data": {
      "text/plain": [
       "Text(0.5, 1.0, 'grid after 10 iterations')"
      ]
     },
     "execution_count": 186,
     "metadata": {},
     "output_type": "execute_result"
    },
    {
     "data": {
      "image/png": "[encoded data removed]",
      "text/plain": [
       "<Figure size 432x288 with 1 Axes>"
      ]
     },
     "metadata": {
      "needs_background": "light"
     },
     "output_type": "display_data"
    }
   ],
   "source": [
    "som = kohonen(10,10,input_data, n_iter=10)\n",
    "som.train()\n",
    "plt.imshow(som.grid, cmap=\"Spectral\")\n",
    "plt.title('grid after 10 iterations')"
   ]
  },
  {
   "cell_type": "code",
   "execution_count": 190,
   "metadata": {},
   "outputs": [
    {
     "name": "stdout",
     "output_type": "stream",
     "text": [
      "it took 1.7300467491149902 seconds to train\n"
     ]
    },
    {
     "data": {
      "text/plain": [
       "Text(0.5, 1.0, 'grid after 100 iterations')"
      ]
     },
     "execution_count": 190,
     "metadata": {},
     "output_type": "execute_result"
    },
    {
     "data": {
      "image/png": "[encoded data removed]",
      "text/plain": [
       "<Figure size 432x288 with 1 Axes>"
      ]
     },
     "metadata": {
      "needs_background": "light"
     },
     "output_type": "display_data"
    }
   ],
   "source": [
    "# network has almost converged already after 100 iterations\n",
    "import time\n",
    "som = kohonen(10,10,input_data, n_iter=100)\n",
    "start_time = time.time()\n",
    "som.train()\n",
    "end_time = time.time()-start_time\n",
    "print(f'it took {end_time} seconds to train')\n",
    "plt.imshow(som.grid, cmap=\"Spectral\")\n",
    "plt.title('grid after 100 iterations')"
   ]
  },
  {
   "cell_type": "code",
   "execution_count": null,
   "metadata": {},
   "outputs": [],
   "source": [
    "som = kohonen(100,100,input_data, n_iter=1000)\n",
    "import time\n",
    "start_time = time.time()\n",
    "som.train()\n",
    "end_time = start_time - time.time()\n",
    "print('1000 iterations took {end_time} seconds')"
   ]
  },
  {
   "cell_type": "code",
   "execution_count": 145,
   "metadata": {},
   "outputs": [
    {
     "data": {
      "text/plain": [
       "<matplotlib.image.AxesImage at 0x25693b68d00>"
      ]
     },
     "execution_count": 145,
     "metadata": {},
     "output_type": "execute_result"
    },
    {
     "data": {
      "image/png": "[encoded data removed]",
      "text/plain": [
       "<Figure size 432x288 with 1 Axes>"
      ]
     },
     "metadata": {
      "needs_background": "light"
     },
     "output_type": "display_data"
    }
   ],
   "source": [
    "xx, yy = np.meshgrid(np.linspace(0,1,som.grid.shape[0]), np.linspace(0,1,som.grid.shape[0]))\n",
    "\n",
    "data = som.grid.T @ xx + som.grid.T @ yy\n",
    "\n",
    "fig = plt.figure()\n",
    "\n",
    "ax1 = fig.add_subplot(121)\n",
    "ax1.imshow(data, cmap='Spectral', interpolation='nearest', origin='lower', extent=[0,1,0,1])\n"
   ]
  },
  {
   "cell_type": "code",
   "execution_count": 10,
   "metadata": {},
   "outputs": [
    {
     "data": {
      "text/plain": [
       "<matplotlib.image.AxesImage at 0x25691696e50>"
      ]
     },
     "execution_count": 10,
     "metadata": {},
     "output_type": "execute_result"
    },
    {
     "data": {
      "image/png": "[encoded data removed]",
      "text/plain": [
       "<Figure size 432x288 with 1 Axes>"
      ]
     },
     "metadata": {
      "needs_background": "light"
     },
     "output_type": "display_data"
    }
   ],
   "source": [
    "# network convergence seen below\n",
    "plt.imshow(np.atleast_2d(som.grid[0]), cmap='Spectral')"
   ]
  },
  {
   "cell_type": "code",
   "execution_count": null,
   "metadata": {},
   "outputs": [],
   "source": [
    "# this just shows how to generate random predictions. \n",
    "indices = som.predict(np.random.random((1000,1)))\n",
    "preds = np.zeros(indices.shape)\n",
    "for i, index in enumerate(indices):\n",
    "    preds[i] = som.grid[0][index]\n",
    "preds = np.atleast_2d(preds)\n",
    "# this just shows a colormap where each random data point has landed\n",
    "plt.imshow(preds.reshape(10,100), cmap='Spectral')"
   ]
  },
  {
   "cell_type": "markdown",
   "metadata": {},
   "source": [
    "The network took a lot longer to train after 1000 iterations, as expected.\n",
    "As can be seen in one of the cells above, it only took 1.73 seconds to train the model using a 100*100 grid with 100 iterations.\n",
    "In order to optimise the network, I could have used vectorised calculations such as 'cdist' found in scipy.spatial.distance, as opposed to the inner most 'nested for loop' used in the 'train' method of my network:\n",
    "```\n",
    "distances = cdist(np.atleast_2d(current_input_vector), som.grid, metric='euclidean')\n",
    "indices = np.where(distances == distances.min()) \n",
    "```\n",
    "Additionaly, writing some of the code using Numba (with a JIT compiler), or writing some of the code in Cython would probably give the network an additional speed-up.\n"
   ]
  },
  {
   "cell_type": "code",
   "execution_count": null,
   "metadata": {},
   "outputs": [],
   "source": []
  }
 ],
 "metadata": {
  "kernelspec": {
   "display_name": "Python 3 (ipykernel)",
   "language": "python",
   "name": "python3"
  },
  "language_info": {
   "codemirror_mode": {
    "name": "ipython",
    "version": 3
   },
   "file_extension": ".py",
   "mimetype": "text/x-python",
   "name": "python",
   "nbconvert_exporter": "python",
   "pygments_lexer": "ipython3",
   "version": "3.8.8"
  }
 },
 "nbformat": 4,
 "nbformat_minor": 2
}
